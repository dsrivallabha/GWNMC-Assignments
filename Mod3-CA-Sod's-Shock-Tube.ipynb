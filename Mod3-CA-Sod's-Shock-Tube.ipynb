{
 "metadata": {
  "name": "",
  "signature": "sha256:8ff87d313f04ee7aaf2c7b5fc04ea47a88f0a4663f99cf43173f97a94f06f8f8"
 },
 "nbformat": 3,
 "nbformat_minor": 0,
 "worksheets": [
  {
   "cells": [
    {
     "cell_type": "heading",
     "level": 1,
     "metadata": {},
     "source": [
      "Sod's shock tube problem"
     ]
    },
    {
     "cell_type": "code",
     "collapsed": false,
     "input": [
      "%matplotlib inline\n",
      "import numpy \n",
      "import matplotlib.pyplot as plt\n",
      "from matplotlib import rcParams\n",
      "rcParams['font.family'] = 'serif'\n",
      "rcParams['font.size'] = 16\n",
      "#from matplotlib import animation\n",
      "#from JSAnimation.IPython_display import display_animation"
     ],
     "language": "python",
     "metadata": {},
     "outputs": [],
     "prompt_number": 1
    },
    {
     "cell_type": "code",
     "collapsed": false,
     "input": [
      "#Basic initial condition parameters\n",
      "#defining grid size, time steps, CFL condition, etc...\n",
      "nx = 81\n",
      "dx = 0.25\n",
      "dt = 0.0002\n",
      "totaltime = 0.01\n",
      "ntsteps = numpy.int(totaltime/dt)\n",
      "print(ntsteps)\n",
      "gamma = 1.4\n",
      "gmo = gamma - 1."
     ],
     "language": "python",
     "metadata": {},
     "outputs": [
      {
       "output_type": "stream",
       "stream": "stdout",
       "text": [
        "50\n"
       ]
      }
     ],
     "prompt_number": 2
    },
    {
     "cell_type": "code",
     "collapsed": false,
     "input": [
      "#set inital conditions\n",
      "pl = 100000. #KN/m2\n",
      "pr = 10000.  # KN/m2\n",
      "\n",
      "ul = 0.  #m/s\n",
      "ur = 0.  #m/s\n",
      "\n",
      "rhol = 1. #kg/m3\n",
      "rhor = 0.125 #kg/m3"
     ],
     "language": "python",
     "metadata": {},
     "outputs": [],
     "prompt_number": 3
    },
    {
     "cell_type": "code",
     "collapsed": false,
     "input": [
      "x = numpy.linspace(-10.,10.,nx)\n",
      "u = numpy.zeros((nx,3))\n",
      "f = numpy.zeros((nx,3))\n",
      "print(x)"
     ],
     "language": "python",
     "metadata": {},
     "outputs": [
      {
       "output_type": "stream",
       "stream": "stdout",
       "text": [
        "[-10.    -9.75  -9.5   -9.25  -9.    -8.75  -8.5   -8.25  -8.    -7.75\n",
        "  -7.5   -7.25  -7.    -6.75  -6.5   -6.25  -6.    -5.75  -5.5   -5.25  -5.\n",
        "  -4.75  -4.5   -4.25  -4.    -3.75  -3.5   -3.25  -3.    -2.75  -2.5\n",
        "  -2.25  -2.    -1.75  -1.5   -1.25  -1.    -0.75  -0.5   -0.25   0.     0.25\n",
        "   0.5    0.75   1.     1.25   1.5    1.75   2.     2.25   2.5    2.75   3.\n",
        "   3.25   3.5    3.75   4.     4.25   4.5    4.75   5.     5.25   5.5\n",
        "   5.75   6.     6.25   6.5    6.75   7.     7.25   7.5    7.75   8.     8.25\n",
        "   8.5    8.75   9.     9.25   9.5    9.75  10.  ]\n"
       ]
      }
     ],
     "prompt_number": 48
    },
    {
     "cell_type": "code",
     "collapsed": false,
     "input": [
      "for i in range(nx):\n",
      "    if (x[i] < 0): \n",
      "        u[i,0] = rhol\n",
      "        u[i,1] = rhol*ul\n",
      "        u[i,2] = pl/gmo + 0.5 * rhol * ul**2\n",
      "    else:\n",
      "        u[i,0] = rhor\n",
      "        u[i,1] = rhor*ur\n",
      "        u[i,2] = pr/gmo + 0.5 * rhor * ur**2\n",
      "    if(x[i] == 0):\n",
      "        zeroindex = i\n",
      "    if(x[i] == 2.5):\n",
      "        required_point = i\n",
      "    \n",
      "print(\"zeroindex\", zeroindex)\n",
      "print(\"required_point\", required_point)"
     ],
     "language": "python",
     "metadata": {},
     "outputs": [
      {
       "output_type": "stream",
       "stream": "stdout",
       "text": [
        "('zeroindex', 40)\n",
        "('required_point', 50)\n"
       ]
      }
     ],
     "prompt_number": 49
    },
    {
     "cell_type": "code",
     "collapsed": false,
     "input": [
      "u_initial = u.copy()\n",
      "ucheck = u[0]\n",
      "print(ucheck)\n",
      "\n",
      "plt.plot(x, u[:,0])\n",
      "plt.show()"
     ],
     "language": "python",
     "metadata": {},
     "outputs": [
      {
       "output_type": "stream",
       "stream": "stdout",
       "text": [
        "[  1.00000000e+00   0.00000000e+00   2.50000000e+05]\n"
       ]
      },
      {
       "metadata": {},
       "output_type": "display_data",
       "png": "[encoded data removed]",
       "text": [
        "<matplotlib.figure.Figure at 0x5070890>"
       ]
      }
     ],
     "prompt_number": 50
    },
    {
     "cell_type": "code",
     "collapsed": false,
     "input": [
      "plt.plot(x, u[:,1])\n",
      "plt.show()"
     ],
     "language": "python",
     "metadata": {},
     "outputs": [
      {
       "metadata": {},
       "output_type": "display_data",
       "png": "[encoded data removed]",
       "text": [
        "<matplotlib.figure.Figure at 0x4d5e550>"
       ]
      }
     ],
     "prompt_number": 51
    },
    {
     "cell_type": "code",
     "collapsed": false,
     "input": [
      "plt.plot(x, u[:,2])\n",
      "plt.show()"
     ],
     "language": "python",
     "metadata": {},
     "outputs": [
      {
       "metadata": {},
       "output_type": "display_data",
       "png": "[encoded data removed]",
       "text": [
        "<matplotlib.figure.Figure at 0x4a1e850>"
       ]
      }
     ],
     "prompt_number": 52
    },
    {
     "cell_type": "code",
     "collapsed": false,
     "input": [
      "def Flux(u):\n",
      "    \"\"\"\n",
      "    Parameters\n",
      "    -----------\n",
      "    u : array of floats\n",
      "        Three components of primitive variables\n",
      "        \n",
      "    f : array of floats\n",
      "        Three conserved quantities computed from primitive quantities\n",
      "    \n",
      "    f[0] = mass flux\n",
      "    f[1] = momentum flux\n",
      "    f[2] = energy flux\n",
      "    \n",
      "    \"\"\"\n",
      "    f[:,0] = u[:,1]\n",
      "    f[:,1] = u[:,1]**2/u[:,0] + gmo * (u[:,2] - (u[:,1]**2/(2*u[:,0])))\n",
      "    f[:,2] = (u[:,2] + gmo * (u[:,2] - (u[:,1]**2/(2*u[:,0]))))*u[:,1]/u[:,0]\n",
      "    return f"
     ],
     "language": "python",
     "metadata": {},
     "outputs": [],
     "prompt_number": 53
    },
    {
     "cell_type": "code",
     "collapsed": false,
     "input": [
      "def richtmeyer(u,delt,delx):\n",
      "    #definition of richtmeyer scheme\n",
      "    # returns next step value of u at each time step\n",
      "    #uright[:,-1] = u[1:]\n",
      "    #uleft[:] = u[:]\n",
      "    u_new = numpy.zeros_like(u)\n",
      "    u_face = numpy.zeros_like(u)\n",
      "    f = numpy.zeros_like(u)\n",
      "    \n",
      "    # step 1 of richtmeyer\n",
      "    \n",
      "    #compute flux\n",
      "    f = Flux(u)\n",
      "    #print(f)\n",
      "    \n",
      "    # calculate cell face values\n",
      "    for i in range(nx-1):\n",
      "        u_face[i] = 0.5*(u[i+1] + u[i]) - 0.5 * (delt/delx)*(f[i+1] - f[i])\n",
      "     #   print(i, u_face[i])\n",
      "        \n",
      "    #step 2 of richtmeyer\n",
      "    \n",
      "    #compute new flux at cell faces\n",
      "    f = numpy.zeros_like(u)\n",
      "    f = Flux(u_face)\n",
      "    #print(f)\n",
      "    \n",
      "    # update new values at cell center\n",
      "    for i in range(1, nx-1):\n",
      "        #print(i)\n",
      "        u_new[i] = u[i] - (delt/delx)*(f[i] - f[i-1])\n",
      "    \n",
      "    u_new[0] = u[0]\n",
      "    u_new[-1] = u[-1]\n",
      "        \n",
      "    return u_new    "
     ],
     "language": "python",
     "metadata": {},
     "outputs": [],
     "prompt_number": 54
    },
    {
     "cell_type": "code",
     "collapsed": false,
     "input": [
      "def maccormack(u,delt,delx):\n",
      "    \"\"\" Computes the solution with MacCormack scheme\n",
      "    \n",
      "    Parameters\n",
      "    ----------\n",
      "    dt     : float\n",
      "            Time-step size\n",
      "    dx     : float\n",
      "            Mesh spacing\n",
      "    u  : array of floats\n",
      "            primitive variables\n",
      "    \n",
      "    Returns\n",
      "    -------\n",
      "    u_new : array of floats\n",
      "            primitive variables at t+delt\n",
      "    \"\"\"\n",
      "    \n",
      "    #rho_n = numpy.zeros((nt,len(rho)))\n",
      "    u_star = numpy.empty_like(u)\n",
      "    u_new = numpy.empty_like(u)\n",
      "    #rho_n[:,:] = rho.copy()\n",
      "    #rho_star = rho.copy()\n",
      "    \n",
      "    #for t in range(1,nt):\n",
      "    f = Flux(u)\n",
      "    u_star[:-1] = u[:-1] - dt/dx * (f[1:]-f[:-1])\n",
      "    u_star[-1] = u[-1]\n",
      "        \n",
      "    fstar = Flux(u_star)\n",
      "    u_new[1:] = .5 * (u[1:]+u_star[1:] - dt/dx * (fstar[1:] - fstar[:-1]))\n",
      "    u_new[0] = u[0]\n",
      "    return u_new"
     ],
     "language": "python",
     "metadata": {},
     "outputs": [],
     "prompt_number": 55
    },
    {
     "cell_type": "code",
     "collapsed": false,
     "input": [
      "for t in range(ntsteps):\n",
      "    u_old = u.copy()\n",
      "    u = richtmeyer(u_old,dt,dx)\n",
      "    #u = maccormack(u_old,dt,dx)      \n",
      "#print(u_new)"
     ],
     "language": "python",
     "metadata": {},
     "outputs": [],
     "prompt_number": 56
    },
    {
     "cell_type": "code",
     "collapsed": false,
     "input": [
      "plt.plot(u[:,0])\n",
      "plt.plot(u_initial[:,0])\n",
      "plt.show()"
     ],
     "language": "python",
     "metadata": {},
     "outputs": [
      {
       "metadata": {},
       "output_type": "display_data",
       "png": "[encoded data removed]",
       "text": [
        "<matplotlib.figure.Figure at 0x4a2dd10>"
       ]
      }
     ],
     "prompt_number": 57
    },
    {
     "cell_type": "code",
     "collapsed": false,
     "input": [
      "plt.plot(x,u[:,1])\n",
      "plt.plot(x,u_initial[:,1])\n",
      "plt.show()"
     ],
     "language": "python",
     "metadata": {},
     "outputs": [
      {
       "metadata": {},
       "output_type": "display_data",
       "png": "[encoded data removed]",
       "text": [
        "<matplotlib.figure.Figure at 0x4f89d90>"
       ]
      }
     ],
     "prompt_number": 58
    },
    {
     "cell_type": "code",
     "collapsed": false,
     "input": [
      "plt.plot(x,u[:,2])\n",
      "plt.plot(x,u_initial[:,2])\n",
      "plt.show()"
     ],
     "language": "python",
     "metadata": {},
     "outputs": [
      {
       "metadata": {},
       "output_type": "display_data",
       "png": "[encoded data removed]",
       "text": [
        "<matplotlib.figure.Figure at 0x4faa3d0>"
       ]
      }
     ],
     "prompt_number": 59
    },
    {
     "cell_type": "code",
     "collapsed": false,
     "input": [
      "print(u[required_point])"
     ],
     "language": "python",
     "metadata": {},
     "outputs": [
      {
       "output_type": "stream",
       "stream": "stdout",
       "text": [
        "[  3.74691403e-01   1.09639003e+02   9.16680404e+04]\n",
        "20626.4011928\n"
       ]
      }
     ],
     "prompt_number": 60
    },
    {
     "cell_type": "code",
     "collapsed": false,
     "input": [
      "uvel = u[required_point,1]/u[required_point,0]\n",
      "print(uvel)"
     ],
     "language": "python",
     "metadata": {},
     "outputs": [
      {
       "output_type": "stream",
       "stream": "stdout",
       "text": [
        "292.611471527\n"
       ]
      }
     ],
     "prompt_number": 61
    },
    {
     "cell_type": "code",
     "collapsed": false,
     "input": [
      "pressure = (u[required_point,2] - 0.5 * u[required_point,1]**2/u[required_point,0])*gmo\n",
      "print(pressure)"
     ],
     "language": "python",
     "metadata": {},
     "outputs": [
      {
       "output_type": "stream",
       "stream": "stdout",
       "text": [
        "30250.8901676\n"
       ]
      }
     ],
     "prompt_number": 62
    },
    {
     "cell_type": "code",
     "collapsed": false,
     "input": [],
     "language": "python",
     "metadata": {},
     "outputs": []
    }
   ],
   "metadata": {}
  }
 ]
}