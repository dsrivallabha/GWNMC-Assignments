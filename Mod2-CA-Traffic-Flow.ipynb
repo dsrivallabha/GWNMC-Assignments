{
 "metadata": {
  "name": "",
  "signature": "sha256:c4e40ac19285eb82810cf8abae0666d6df8c6ed2b51cda72acaeed345b091e4e"
 },
 "nbformat": 3,
 "nbformat_minor": 0,
 "worksheets": [
  {
   "cells": [
    {
     "cell_type": "heading",
     "level": 1,
     "metadata": {},
     "source": [
      "Traffic Flow Simulation"
     ]
    },
    {
     "cell_type": "code",
     "collapsed": false,
     "input": [
      "import numpy\n",
      "import matplotlib.pyplot as plt"
     ],
     "language": "python",
     "metadata": {},
     "outputs": [],
     "prompt_number": 1
    },
    {
     "cell_type": "code",
     "collapsed": false,
     "input": [
      "Vmax = 136. # km/hr\n",
      "L = 11. # km\n",
      "rhomax = 250. # cars/km\n",
      "nx = 51  #points\n",
      "delt = 0.001 #hr\n",
      "print (Vmax, L, rhomax, nx, delt)"
     ],
     "language": "python",
     "metadata": {},
     "outputs": [
      {
       "output_type": "stream",
       "stream": "stdout",
       "text": [
        "(136.0, 11.0, 250.0, 51, 0.001)\n"
       ]
      }
     ],
     "prompt_number": 2
    },
    {
     "cell_type": "heading",
     "level": 3,
     "metadata": {},
     "source": [
      "Computing initial conditions"
     ]
    },
    {
     "cell_type": "code",
     "collapsed": false,
     "input": [
      "delx = L/(nx-1)\n",
      "x = numpy.linspace(0,L,nx)\n",
      "\n",
      "rho0 = numpy.ones(nx)*20 ##note this change\n",
      "rho0[10:20] = 50\n",
      "V = numpy.zeros(nx)\n",
      "F = numpy.zeros(nx)\n",
      "print(delx)\n",
      "print(x)"
     ],
     "language": "python",
     "metadata": {},
     "outputs": [
      {
       "output_type": "stream",
       "stream": "stdout",
       "text": [
        "0.22\n",
        "[  0.     0.22   0.44   0.66   0.88   1.1    1.32   1.54   1.76   1.98\n",
        "   2.2    2.42   2.64   2.86   3.08   3.3    3.52   3.74   3.96   4.18\n",
        "   4.4    4.62   4.84   5.06   5.28   5.5    5.72   5.94   6.16   6.38\n",
        "   6.6    6.82   7.04   7.26   7.48   7.7    7.92   8.14   8.36   8.58\n",
        "   8.8    9.02   9.24   9.46   9.68   9.9   10.12  10.34  10.56  10.78  11.  ]\n"
       ]
      }
     ],
     "prompt_number": 3
    },
    {
     "cell_type": "code",
     "collapsed": false,
     "input": [
      "rho = rho0.copy()\n",
      "rho"
     ],
     "language": "python",
     "metadata": {},
     "outputs": [
      {
       "metadata": {},
       "output_type": "pyout",
       "prompt_number": 4,
       "text": [
        "array([ 20.,  20.,  20.,  20.,  20.,  20.,  20.,  20.,  20.,  20.,  50.,\n",
        "        50.,  50.,  50.,  50.,  50.,  50.,  50.,  50.,  50.,  20.,  20.,\n",
        "        20.,  20.,  20.,  20.,  20.,  20.,  20.,  20.,  20.,  20.,  20.,\n",
        "        20.,  20.,  20.,  20.,  20.,  20.,  20.,  20.,  20.,  20.,  20.,\n",
        "        20.,  20.,  20.,  20.,  20.,  20.,  20.])"
       ]
      }
     ],
     "prompt_number": 4
    },
    {
     "cell_type": "code",
     "collapsed": false,
     "input": [
      "for i in range(nx):\n",
      "    V[i] = Vmax * (1. - rho[i]/rhomax)\n",
      "V"
     ],
     "language": "python",
     "metadata": {},
     "outputs": [
      {
       "metadata": {},
       "output_type": "pyout",
       "prompt_number": 5,
       "text": [
        "array([ 125.12,  125.12,  125.12,  125.12,  125.12,  125.12,  125.12,\n",
        "        125.12,  125.12,  125.12,  108.8 ,  108.8 ,  108.8 ,  108.8 ,\n",
        "        108.8 ,  108.8 ,  108.8 ,  108.8 ,  108.8 ,  108.8 ,  125.12,\n",
        "        125.12,  125.12,  125.12,  125.12,  125.12,  125.12,  125.12,\n",
        "        125.12,  125.12,  125.12,  125.12,  125.12,  125.12,  125.12,\n",
        "        125.12,  125.12,  125.12,  125.12,  125.12,  125.12,  125.12,\n",
        "        125.12,  125.12,  125.12,  125.12,  125.12,  125.12,  125.12,\n",
        "        125.12,  125.12])"
       ]
      }
     ],
     "prompt_number": 5
    },
    {
     "cell_type": "heading",
     "level": 3,
     "metadata": {},
     "source": [
      "Computing average velocity at time T = 3min"
     ]
    },
    {
     "cell_type": "code",
     "collapsed": false,
     "input": [
      "Tmax = 3./60.\n",
      "ntsteps = Tmax/delt\n",
      "print(ntsteps)\n",
      "ntsteps = numpy.int(ntsteps)\n",
      "print(ntsteps)\n",
      "T = numpy.linspace(0, Tmax, ntsteps)\n",
      "print(ntsteps)\n",
      "print(T)"
     ],
     "language": "python",
     "metadata": {},
     "outputs": [
      {
       "output_type": "stream",
       "stream": "stdout",
       "text": [
        "50.0\n",
        "50\n",
        "50\n",
        "[ 0.          0.00102041  0.00204082  0.00306122  0.00408163  0.00510204\n",
        "  0.00612245  0.00714286  0.00816327  0.00918367  0.01020408  0.01122449\n",
        "  0.0122449   0.01326531  0.01428571  0.01530612  0.01632653  0.01734694\n",
        "  0.01836735  0.01938776  0.02040816  0.02142857  0.02244898  0.02346939\n",
        "  0.0244898   0.0255102   0.02653061  0.02755102  0.02857143  0.02959184\n",
        "  0.03061224  0.03163265  0.03265306  0.03367347  0.03469388  0.03571429\n",
        "  0.03673469  0.0377551   0.03877551  0.03979592  0.04081633  0.04183673\n",
        "  0.04285714  0.04387755  0.04489796  0.04591837  0.04693878  0.04795918\n",
        "  0.04897959  0.05      ]\n"
       ]
      }
     ],
     "prompt_number": 6
    },
    {
     "cell_type": "code",
     "collapsed": false,
     "input": [
      "rho = rho0.copy()\n",
      "\n",
      "for j in range(ntsteps):\n",
      "    \n",
      "    rhon = rho.copy()\n",
      "    print(T[j])\n",
      "#Compute F at all points based on rho\n",
      "    for i in range(nx):\n",
      "        F[i] = rhon[i]*Vmax*(1.- (rhon[i]/rhomax))\n",
      "#Compute updated value of rho\n",
      "    for i in range(1, nx):\n",
      "        rho[i] = rhon[i] - (delt/delx)*(F[i] - F[i-1])\n",
      "    rho[0] = 20.0"
     ],
     "language": "python",
     "metadata": {},
     "outputs": [
      {
       "output_type": "stream",
       "stream": "stdout",
       "text": [
        "0.0\n",
        "0.00102040816327\n",
        "0.00204081632653\n",
        "0.0030612244898\n",
        "0.00408163265306\n",
        "0.00510204081633\n",
        "0.00612244897959\n",
        "0.00714285714286\n",
        "0.00816326530612\n",
        "0.00918367346939\n",
        "0.0102040816327\n",
        "0.0112244897959\n",
        "0.0122448979592\n",
        "0.0132653061224\n",
        "0.0142857142857\n",
        "0.015306122449\n",
        "0.0163265306122\n",
        "0.0173469387755\n",
        "0.0183673469388\n",
        "0.019387755102\n",
        "0.0204081632653\n",
        "0.0214285714286\n",
        "0.0224489795918\n",
        "0.0234693877551\n",
        "0.0244897959184\n",
        "0.0255102040816\n",
        "0.0265306122449\n",
        "0.0275510204082\n",
        "0.0285714285714\n",
        "0.0295918367347\n",
        "0.030612244898\n",
        "0.0316326530612\n",
        "0.0326530612245\n",
        "0.0336734693878\n",
        "0.034693877551\n",
        "0.0357142857143\n",
        "0.0367346938776\n",
        "0.0377551020408\n",
        "0.0387755102041\n",
        "0.0397959183673\n",
        "0.0408163265306\n",
        "0.0418367346939\n",
        "0.0428571428571\n",
        "0.0438775510204\n",
        "0.0448979591837\n",
        "0.0459183673469\n",
        "0.0469387755102\n",
        "0.0479591836735\n",
        "0.0489795918367\n",
        "0.05\n"
       ]
      }
     ],
     "prompt_number": 7
    },
    {
     "cell_type": "code",
     "collapsed": false,
     "input": [
      "rho"
     ],
     "language": "python",
     "metadata": {},
     "outputs": [
      {
       "metadata": {},
       "output_type": "pyout",
       "prompt_number": 8,
       "text": [
        "array([ 20.        ,  20.        ,  20.        ,  20.        ,\n",
        "        20.        ,  20.        ,  20.        ,  20.        ,\n",
        "        20.        ,  20.        ,  20.        ,  20.        ,\n",
        "        20.        ,  20.        ,  20.        ,  20.00000002,\n",
        "        20.00000016,  20.00000117,  20.00000721,  20.00003868,\n",
        "        20.0001836 ,  20.00077865,  20.00297693,  20.01033959,\n",
        "        20.03284832,  20.09602727,  20.25956996,  20.65062886,\n",
        "        21.5109336 ,  23.22719198,  26.23953573,  30.67777249,\n",
        "        35.88093772,  40.53506416,  43.61113213,  44.94292344,\n",
        "        44.91723866,  43.99543418,  42.51719947,  40.69798881,\n",
        "        38.67361603,  36.5365838 ,  34.35741178,  32.19575584,\n",
        "        30.10578431,  28.13824093,  26.34018969,  24.7527773 ,\n",
        "        23.4073393 ,  22.32069108,  21.49121772])"
       ]
      }
     ],
     "prompt_number": 8
    },
    {
     "cell_type": "code",
     "collapsed": false,
     "input": [
      "# droplet properties\n",
      "plt.figure(figsize=(8,6))\n",
      "plt.grid(True)\n",
      "plt.xlabel(r'position', fontsize=18)\n",
      "plt.ylabel(r'number density', fontsize=18)\n",
      "plt.title('car number density', fontsize=18)\n",
      "plt.plot(x, rho,'k-', lw=2);\n",
      "plt.show()"
     ],
     "language": "python",
     "metadata": {},
     "outputs": [],
     "prompt_number": 9
    },
    {
     "cell_type": "code",
     "collapsed": false,
     "input": [
      "for i in range(nx):\n",
      "    V[i] = Vmax * (1. - rho[i]/rhomax)\n",
      "V"
     ],
     "language": "python",
     "metadata": {},
     "outputs": [
      {
       "metadata": {},
       "output_type": "pyout",
       "prompt_number": 10,
       "text": [
        "array([ 125.12      ,  125.12      ,  125.12      ,  125.12      ,\n",
        "        125.12      ,  125.12      ,  125.12      ,  125.12      ,\n",
        "        125.12      ,  125.12      ,  125.12      ,  125.12      ,\n",
        "        125.12      ,  125.12      ,  125.12      ,  125.11999999,\n",
        "        125.11999991,  125.11999936,  125.11999608,  125.11997896,\n",
        "        125.11990012,  125.11957641,  125.11838055,  125.11437526,\n",
        "        125.10213051,  125.06776117,  124.97879394,  124.7660579 ,\n",
        "        124.29805212,  123.36440757,  121.72569256,  119.31129177,\n",
        "        116.48076988,  113.9489251 ,  112.27554412,  111.55104965,\n",
        "        111.56502217,  112.06648381,  112.87064349,  113.86029409,\n",
        "        114.96155288,  116.12409841,  117.30956799,  118.48550882,\n",
        "        119.62245334,  120.69279693,  121.67093681,  122.53448915,\n",
        "        123.26640742,  123.85754406,  124.30877756])"
       ]
      }
     ],
     "prompt_number": 10
    },
    {
     "cell_type": "code",
     "collapsed": false,
     "input": [
      "# droplet properties\n",
      "plt.figure(figsize=(8,6))\n",
      "plt.grid(True)\n",
      "plt.xlabel(r'position', fontsize=18)\n",
      "plt.ylabel(r'Velocity', fontsize=18)\n",
      "plt.title('car velocity', fontsize=18)\n",
      "plt.plot(x, V,'k-', lw=2);\n",
      "plt.show()"
     ],
     "language": "python",
     "metadata": {},
     "outputs": [],
     "prompt_number": 11
    },
    {
     "cell_type": "code",
     "collapsed": false,
     "input": [
      "Totalflux = numpy.dot(rho,V) * delx\n",
      "Totalcars = numpy.sum(rho) * delx\n",
      "meanvelocity = Totalflux/Totalcars\n",
      "print(meanvelocity)\n",
      "mv = meanvelocity * 5./18.\n",
      "print (mv)"
     ],
     "language": "python",
     "metadata": {},
     "outputs": [
      {
       "output_type": "stream",
       "stream": "stdout",
       "text": [
        "120.439209213\n",
        "33.4553358924\n"
       ]
      }
     ],
     "prompt_number": 12
    },
    {
     "cell_type": "code",
     "collapsed": false,
     "input": [
      "newmean = numpy.mean(V)\n",
      "print newmean\n",
      "newmin = min(V)\n",
      "print(\"newmin is\", newmin)"
     ],
     "language": "python",
     "metadata": {},
     "outputs": [
      {
       "output_type": "stream",
       "stream": "stdout",
       "text": [
        "121.939985488\n",
        "('newmin is', 111.551049650051)\n"
       ]
      }
     ],
     "prompt_number": 13
    },
    {
     "cell_type": "code",
     "collapsed": false,
     "input": [
      "Tmax = 6./60.\n",
      "ntsteps = Tmax/delt\n",
      "ntsteps = numpy.int(ntsteps)\n",
      "T = numpy.linspace(0, Tmax, ntsteps)\n",
      "print(ntsteps)"
     ],
     "language": "python",
     "metadata": {},
     "outputs": [
      {
       "output_type": "stream",
       "stream": "stdout",
       "text": [
        "100\n"
       ]
      }
     ],
     "prompt_number": 14
    },
    {
     "cell_type": "code",
     "collapsed": false,
     "input": [
      "rho = rho0.copy()\n",
      "\n",
      "for j in range(ntsteps):\n",
      "    \n",
      "    rhon = rho.copy()\n",
      "    print(T[j])\n",
      "#Compute F at all points based on rho\n",
      "    for i in range(nx):\n",
      "        F[i] = rhon[i]*Vmax*(1.- (rhon[i]/rhomax))\n",
      "#Compute updated value of rho\n",
      "    for i in range(1, nx):\n",
      "        rho[i] = rhon[i] - (delt/delx)*(F[i] - F[i-1])\n",
      "    rho[0] = 20.0"
     ],
     "language": "python",
     "metadata": {},
     "outputs": [
      {
       "output_type": "stream",
       "stream": "stdout",
       "text": [
        "0.0\n",
        "0.0010101010101\n",
        "0.0020202020202\n",
        "0.0030303030303\n",
        "0.0040404040404\n",
        "0.00505050505051\n",
        "0.00606060606061\n",
        "0.00707070707071\n",
        "0.00808080808081\n",
        "0.00909090909091\n",
        "0.010101010101\n",
        "0.0111111111111\n",
        "0.0121212121212\n",
        "0.0131313131313\n",
        "0.0141414141414\n",
        "0.0151515151515\n",
        "0.0161616161616\n",
        "0.0171717171717\n",
        "0.0181818181818\n",
        "0.0191919191919\n",
        "0.020202020202\n",
        "0.0212121212121\n",
        "0.0222222222222\n",
        "0.0232323232323\n",
        "0.0242424242424\n",
        "0.0252525252525\n",
        "0.0262626262626\n",
        "0.0272727272727\n",
        "0.0282828282828\n",
        "0.0292929292929\n",
        "0.030303030303\n",
        "0.0313131313131\n",
        "0.0323232323232\n",
        "0.0333333333333\n",
        "0.0343434343434\n",
        "0.0353535353535\n",
        "0.0363636363636\n",
        "0.0373737373737\n",
        "0.0383838383838\n",
        "0.0393939393939\n",
        "0.040404040404\n",
        "0.0414141414141\n",
        "0.0424242424242\n",
        "0.0434343434343\n",
        "0.0444444444444\n",
        "0.0454545454545\n",
        "0.0464646464646\n",
        "0.0474747474747\n",
        "0.0484848484848\n",
        "0.0494949494949\n",
        "0.0505050505051\n",
        "0.0515151515152\n",
        "0.0525252525253\n",
        "0.0535353535354\n",
        "0.0545454545455\n",
        "0.0555555555556\n",
        "0.0565656565657\n",
        "0.0575757575758\n",
        "0.0585858585859\n",
        "0.059595959596\n",
        "0.0606060606061\n",
        "0.0616161616162\n",
        "0.0626262626263\n",
        "0.0636363636364\n",
        "0.0646464646465\n",
        "0.0656565656566\n",
        "0.0666666666667\n",
        "0.0676767676768\n",
        "0.0686868686869\n",
        "0.069696969697\n",
        "0.0707070707071\n",
        "0.0717171717172\n",
        "0.0727272727273\n",
        "0.0737373737374\n",
        "0.0747474747475\n",
        "0.0757575757576\n",
        "0.0767676767677\n",
        "0.0777777777778\n",
        "0.0787878787879\n",
        "0.079797979798\n",
        "0.0808080808081\n",
        "0.0818181818182\n",
        "0.0828282828283\n",
        "0.0838383838384\n",
        "0.0848484848485\n",
        "0.0858585858586\n",
        "0.0868686868687\n",
        "0.0878787878788\n",
        "0.0888888888889\n",
        "0.089898989899\n",
        "0.0909090909091\n",
        "0.0919191919192\n",
        "0.0929292929293\n",
        "0.0939393939394\n",
        "0.0949494949495\n",
        "0.0959595959596\n",
        "0.0969696969697\n",
        "0.0979797979798\n",
        "0.0989898989899\n",
        "0.1\n"
       ]
      }
     ],
     "prompt_number": 15
    },
    {
     "cell_type": "code",
     "collapsed": false,
     "input": [
      "# droplet properties\n",
      "plt.figure(figsize=(8,6))\n",
      "plt.grid(True)\n",
      "plt.xlabel(r'time', fontsize=18)\n",
      "plt.ylabel(r'number density', fontsize=18)\n",
      "plt.title('car number density', fontsize=18)\n",
      "plt.plot(x, rho,'k-', lw=2);\n",
      "plt.show()"
     ],
     "language": "python",
     "metadata": {},
     "outputs": [],
     "prompt_number": 16
    },
    {
     "cell_type": "code",
     "collapsed": false,
     "input": [
      "for i in range(nx):\n",
      "    V[i] = Vmax * (1. - rho[i]/rhomax)\n",
      "V"
     ],
     "language": "python",
     "metadata": {},
     "outputs": [
      {
       "metadata": {},
       "output_type": "pyout",
       "prompt_number": 17,
       "text": [
        "array([ 125.12      ,  125.12      ,  125.12      ,  125.12      ,\n",
        "        125.12      ,  125.12      ,  125.12      ,  125.12      ,\n",
        "        125.12      ,  125.12      ,  125.12      ,  125.12      ,\n",
        "        125.12      ,  125.12      ,  125.12      ,  125.12      ,\n",
        "        125.12      ,  125.12      ,  125.12      ,  125.12      ,\n",
        "        125.12      ,  125.12      ,  125.12      ,  125.12      ,\n",
        "        125.12      ,  125.12      ,  125.12      ,  125.12      ,\n",
        "        125.12      ,  125.12      ,  125.12      ,  125.11999999,\n",
        "        125.11999997,  125.1199999 ,  125.11999965,  125.11999879,\n",
        "        125.11999601,  125.11998743,  125.11996223,  125.11989135,\n",
        "        125.11970042,  125.11920707,  125.11798257,  125.11505923,\n",
        "        125.10833819,  125.09344308,  125.06160752,  124.99601044,\n",
        "        124.86595302,  124.6189599 ,  124.17364461])"
       ]
      }
     ],
     "prompt_number": 17
    },
    {
     "cell_type": "code",
     "collapsed": false,
     "input": [
      "minvelocity = numpy.min(V)\n",
      "minvelocity"
     ],
     "language": "python",
     "metadata": {},
     "outputs": [
      {
       "metadata": {},
       "output_type": "pyout",
       "prompt_number": 18,
       "text": [
        "124.17364461318114"
       ]
      }
     ],
     "prompt_number": 18
    },
    {
     "cell_type": "code",
     "collapsed": false,
     "input": [
      "minvel = minvelocity * 5./18."
     ],
     "language": "python",
     "metadata": {},
     "outputs": [],
     "prompt_number": 19
    },
    {
     "cell_type": "code",
     "collapsed": false,
     "input": [
      "minvel"
     ],
     "language": "python",
     "metadata": {},
     "outputs": [
      {
       "metadata": {},
       "output_type": "pyout",
       "prompt_number": 20,
       "text": [
        "34.492679059216982"
       ]
      }
     ],
     "prompt_number": 20
    },
    {
     "cell_type": "code",
     "collapsed": false,
     "input": [
      "5./18."
     ],
     "language": "python",
     "metadata": {},
     "outputs": [
      {
       "metadata": {},
       "output_type": "pyout",
       "prompt_number": 21,
       "text": [
        "0.2777777777777778"
       ]
      }
     ],
     "prompt_number": 21
    },
    {
     "cell_type": "code",
     "collapsed": false,
     "input": [],
     "language": "python",
     "metadata": {},
     "outputs": []
    }
   ],
   "metadata": {}
  }
 ]
}