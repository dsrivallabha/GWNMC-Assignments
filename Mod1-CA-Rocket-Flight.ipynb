{
 "metadata": {
  "name": "New-Rocket-Flight"
 }, 
 "nbformat": 2, 
 "worksheets": [
  {
   "cells": [
    {
     "cell_type": "code", 
     "collapsed": true, 
     "input": [
      "import math", 
      "import numpy", 
      "import matplotlib.pyplot as plt"
     ], 
     "language": "python", 
     "outputs": [], 
     "prompt_number": 157
    }, 
    {
     "cell_type": "code", 
     "collapsed": true, 
     "input": [
      "ms = 50.0 #kg", 
      "g = 9.81 #m/s2", 
      "rho = 1.091 # kg/m3", 
      "r = 0.50 #m", 
      "ve = 325 #m/s", 
      "Cd = 0.15 ", 
      "mp0 = 100.0 #kg", 
      "Tstart = 0.0 #s", 
      "Tburnend = 5.0 #s", 
      "delt = 0.1 # s", 
      "h0 = 0.0 #m", 
      "v0 = 0.0 #m/s", 
      "mdot = 20 #kg/s", 
      "nsteps = 400", 
      "flag = 0"
     ], 
     "language": "python", 
     "outputs": [], 
     "prompt_number": 158
    }, 
    {
     "cell_type": "code", 
     "collapsed": true, 
     "input": [
      "A = numpy.pi * r**2"
     ], 
     "language": "python", 
     "outputs": [], 
     "prompt_number": 159
    }, 
    {
     "cell_type": "code", 
     "collapsed": true, 
     "input": [
      "def f(u):", 
      "    \"\"\"Returns the right-hand side of the phugoid system of equations.", 
      "    ", 
      "    Parameters", 
      "    ----------", 
      "    u : array of float", 
      "        array containing the solution at time n.", 
      "        ", 
      "    Returns", 
      "    -------", 
      "    dudt : array of float", 
      "        array containing the RHS given u.", 
      "    \"\"\"", 
      "    t = u[0]", 
      "    h = u[1]", 
      "    v = u[2]", 
      "    mp = u[3]", 
      "    return numpy.array([1., v, (-((ms+mp)*g) +(mdot*ve) -(0.5*rho*v*abs(v)*A*Cd))/(ms+mp), -mdot])", 
      "", 
      "", 
      "    "
     ], 
     "language": "python", 
     "outputs": [], 
     "prompt_number": 160
    }, 
    {
     "cell_type": "code", 
     "collapsed": true, 
     "input": [
      "def eulerint(u,f,delt):", 
      "    #time advancement using euler scheme", 
      "    #inputs", 
      "    # u: old function value (can be an array also)", 
      "    # f: function that gives rate of change", 
      "    # delt: time step", 
      "    #output (return value) : returns update value of u at new time step", 
      "    # xnew: updated function value    ", 
      "    return u + f(u) *delt"
     ], 
     "language": "python", 
     "outputs": [], 
     "prompt_number": 161
    }, 
    {
     "cell_type": "code", 
     "collapsed": false, 
     "input": [
      "u = numpy.zeros((nsteps+1,4))", 
      "umax = numpy.zeros((4))", 
      "uend1 = numpy.zeros((4))", 
      "uend2 = numpy.zeros((4))"
     ], 
     "language": "python", 
     "outputs": [], 
     "prompt_number": 162
    }, 
    {
     "cell_type": "code", 
     "collapsed": false, 
     "input": [
      "u[0] = numpy.array((Tstart,h0,v0,mp0))", 
      "umax = u[0]"
     ], 
     "language": "python", 
     "outputs": [], 
     "prompt_number": 163
    }, 
    {
     "cell_type": "code", 
     "collapsed": false, 
     "input": [
      "for i in range(nsteps):", 
      "    #{", 
      "    time = i*delt", 
      "    if (time >= 4.99):", 
      "        #{", 
      "        mdot = 0", 
      "        #}", 
      "    if (time == 5.0):", 
      "        maxspeed = u[i,2]", 
      "        hatmaxspeed = u[i,1]", 
      "    u[i+1] = eulerint(u[i],f,delt)", 
      "    if (u[i+1,1] > umax[1]):", 
      "        #{", 
      "        umax = u[i+1]", 
      "        tmax = time", 
      "        #}", 
      "    if ((flag == 0) and (u[i+1,1] < h0)):", 
      "        #{", 
      "        flag = 1", 
      "        uend1 = u[i]", 
      "        uend2 = u[i+1]", 
      "        break", 
      "        #}", 
      "    #}", 
      "    "
     ], 
     "language": "python", 
     "outputs": [], 
     "prompt_number": 164
    }, 
    {
     "cell_type": "code", 
     "collapsed": false, 
     "input": [
      "umax"
     ], 
     "language": "python", 
     "outputs": [
      {
       "output_type": "pyout", 
       "prompt_number": 165, 
       "text": [
        "array([  1.57000000e+01,   1.33418295e+03,  -2.20676921e-01,", 
        "         0.00000000e+00])"
       ]
      }
     ], 
     "prompt_number": 165
    }, 
    {
     "cell_type": "code", 
     "collapsed": false, 
     "input": [
      "tmax"
     ], 
     "language": "python", 
     "outputs": [
      {
       "output_type": "pyout", 
       "prompt_number": 166, 
       "text": [
        "15.600000000000001"
       ]
      }
     ], 
     "prompt_number": 166
    }, 
    {
     "cell_type": "code", 
     "collapsed": false, 
     "input": [
      "maxspeed"
     ], 
     "language": "python", 
     "outputs": [
      {
       "output_type": "pyout", 
       "prompt_number": 167, 
       "text": [
        "232.10613341261794"
       ]
      }
     ], 
     "prompt_number": 167
    }, 
    {
     "cell_type": "code", 
     "collapsed": false, 
     "input": [
      "hatmaxspeed"
     ], 
     "language": "python", 
     "outputs": [
      {
       "output_type": "pyout", 
       "prompt_number": 168, 
       "text": [
        "523.52283429184774"
       ]
      }
     ], 
     "prompt_number": 168
    }, 
    {
     "cell_type": "code", 
     "collapsed": true, 
     "input": [
      "x = u[:,0]", 
      "y = u[:,1]", 
      "z = u[:,2]", 
      "q = u[:,3]"
     ], 
     "language": "python", 
     "outputs": [], 
     "prompt_number": 169
    }, 
    {
     "cell_type": "code", 
     "collapsed": true, 
     "input": [
      "plt.plot(x,y)", 
      "plt.show()"
     ], 
     "language": "python", 
     "outputs": [], 
     "prompt_number": 170
    }, 
    {
     "cell_type": "code", 
     "collapsed": false, 
     "input": [
      "uend1"
     ], 
     "language": "python", 
     "outputs": [
      {
       "output_type": "pyout", 
       "prompt_number": 171, 
       "text": [
        "array([ 37.        ,   6.13901004, -85.97591348,   0.        ])"
       ]
      }
     ], 
     "prompt_number": 171
    }, 
    {
     "cell_type": "code", 
     "collapsed": false, 
     "input": [
      "uend2"
     ], 
     "language": "python", 
     "outputs": [
      {
       "output_type": "pyout", 
       "prompt_number": 172, 
       "text": [
        "array([ 37.1       ,  -2.45858131, -86.00683498,   0.        ])"
       ]
      }
     ], 
     "prompt_number": 172
    }, 
    {
     "cell_type": "code", 
     "collapsed": true, 
     "input": [], 
     "language": "python", 
     "outputs": []
    }
   ]
  }
 ]
}